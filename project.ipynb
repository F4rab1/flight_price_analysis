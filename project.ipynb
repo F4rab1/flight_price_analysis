{
 "cells": [
  {
   "cell_type": "markdown",
   "id": "c85d1af3",
   "metadata": {},
   "source": [
    "Connection to API"
   ]
  },
  {
   "cell_type": "code",
   "execution_count": 23,
   "id": "b9c2dcff",
   "metadata": {},
   "outputs": [],
   "source": [
    "import http.client\n",
    "import json\n",
    "\n",
    "conn = http.client.HTTPSConnection(\"google-flights2.p.rapidapi.com\")\n",
    "\n",
    "headers = {\n",
    "    'x-rapidapi-key': \"ef81eb96e9msh5c4170aadaa7789p118793jsnca6aae8d2439\",\n",
    "    'x-rapidapi-host': \"google-flights2.p.rapidapi.com\"\n",
    "}"
   ]
  },
  {
   "cell_type": "markdown",
   "id": "f2822019",
   "metadata": {},
   "source": [
    "Fetching the airports data:"
   ]
  },
  {
   "cell_type": "code",
   "execution_count": 24,
   "id": "391ca4c3",
   "metadata": {},
   "outputs": [
    {
     "name": "stdout",
     "output_type": "stream",
     "text": [
      "[\n",
      "  {\n",
      "    \"country\": \"Italy\",\n",
      "    \"cities\": {\n",
      "      \"Rome\": [\n",
      "        {\n",
      "          \"id\": \"FCO\",\n",
      "          \"name\": \"Leonardo da Vinci International Airport\"\n",
      "        },\n",
      "        {\n",
      "          \"id\": \"CIA\",\n",
      "          \"name\": \"Giovan Battista Pastine International Airport\"\n",
      "        }\n",
      "      ],\n",
      "      \"Florence\": [\n",
      "        {\n",
      "          \"id\": \"FLR\",\n",
      "          \"name\": \"Amerigo Vespucci Airport\"\n",
      "        },\n",
      "        {\n",
      "          \"id\": \"PSA\",\n",
      "          \"name\": \"Pisa International Airport\"\n",
      "        }\n",
      "      ],\n",
      "      \"Venice\": [\n",
      "        {\n",
      "          \"id\": \"VCE\",\n",
      "          \"name\": \"Venice Marco Polo Airport\"\n",
      "        },\n",
      "        {\n",
      "          \"id\": \"TSF\",\n",
      "          \"name\": \"Treviso Airport\"\n",
      "        }\n",
      "      ],\n",
      "      \"Milan\": [\n",
      "        {\n",
      "          \"id\": \"MXP\",\n",
      "          \"name\": \"Milano Malpensa Airport\"\n",
      "        },\n",
      "        {\n",
      "          \"id\": \"BGY\",\n",
      "          \"name\": \"Il Caravaggio International Airport\"\n",
      "        },\n",
      "        {\n",
      "          \"id\": \"LIN\",\n",
      "          \"name\": \"Milan Linate Airport\"\n",
      "        }\n",
      "      ],\n",
      "      \"Naples\": [\n",
      "        {\n",
      "          \"id\": \"NAP\",\n",
      "          \"name\": \"Naples International Airport\"\n",
      "        }\n",
      "      ]\n",
      "    }\n",
      "  }\n",
      "]\n"
     ]
    }
   ],
   "source": [
    "conn.request(\"GET\", \"/api/v1/searchAirport?query=italy&language_code=en-US\", headers=headers)\n",
    "\n",
    "res = conn.getresponse()\n",
    "data = res.read()\n",
    "data = data.decode(\"utf-8\")\n",
    "response = json.loads(data)\n",
    "\n",
    "if response.get(\"status\") and response.get(\"message\") == \"Success\":\n",
    "    \n",
    "    country_data = {\n",
    "        \"country\": \"Italy\",\n",
    "        \"cities\": {}\n",
    "    }\n",
    "    \n",
    "    for city_data in response.get(\"data\", []):\n",
    "        city_name = city_data[\"city\"]\n",
    "        \n",
    "        airports = [\n",
    "            {\"id\": item[\"id\"], \"name\": item[\"title\"]}\n",
    "            for item in city_data.get(\"list\", [])\n",
    "            if item[\"type\"] == \"airport\"\n",
    "        ]\n",
    "        \n",
    "        if airports:\n",
    "            country_data[\"cities\"][city_name] = airports\n",
    "\n",
    "    airports_data = [country_data]\n",
    "\n",
    "    print(json.dumps(airports_data, indent=2))\n",
    "\n",
    "else:\n",
    "    print(\"API response indicates failure.\")"
   ]
  },
  {
   "cell_type": "code",
   "execution_count": null,
   "id": "f5c12fe1",
   "metadata": {},
   "outputs": [],
   "source": []
  },
  {
   "cell_type": "code",
   "execution_count": null,
   "id": "f9b7ad58",
   "metadata": {},
   "outputs": [],
   "source": []
  }
 ],
 "metadata": {
  "kernelspec": {
   "display_name": "base",
   "language": "python",
   "name": "python3"
  },
  "language_info": {
   "codemirror_mode": {
    "name": "ipython",
    "version": 3
   },
   "file_extension": ".py",
   "mimetype": "text/x-python",
   "name": "python",
   "nbconvert_exporter": "python",
   "pygments_lexer": "ipython3",
   "version": "3.12.4"
  }
 },
 "nbformat": 4,
 "nbformat_minor": 5
}
